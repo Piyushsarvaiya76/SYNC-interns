{
 "cells": [
  {
   "cell_type": "code",
   "execution_count": 4,
   "id": "37dfec5a",
   "metadata": {},
   "outputs": [],
   "source": [
    "import pyshorteners\n",
    "import pyperclip\n",
    "from tkinter import *"
   ]
  },
  {
   "cell_type": "code",
   "execution_count": 5,
   "id": "719d2dd1",
   "metadata": {},
   "outputs": [],
   "source": [
    "s = pyshorteners.Shortener()\n"
   ]
  },
  {
   "cell_type": "code",
   "execution_count": 6,
   "id": "63e67e31",
   "metadata": {},
   "outputs": [
    {
     "name": "stdout",
     "output_type": "stream",
     "text": [
      "https://tinyurl.com/264bpq\n"
     ]
    }
   ],
   "source": [
    "print(s.tinyurl.short('http://www.g1.com.br'))"
   ]
  },
  {
   "cell_type": "code",
   "execution_count": 7,
   "id": "d9c5eaf9",
   "metadata": {},
   "outputs": [
    {
     "name": "stdout",
     "output_type": "stream",
     "text": [
      "https://tinyurl.com/2oz9pck6\n"
     ]
    }
   ],
   "source": [
    "print(s.tinyurl.short('https://www.bing.com/search?q=how+to+install+pyshortners+&qs=n&form=QBRE&sp=-1&ghc=1&lq=0&pq=how+to+install+pyshortners+&sc=1-27&sk=&cvid=70D7CFA7A4D841478019B68219549157&ghsh=0&ghacc=0&ghpl='))"
   ]
  },
  {
   "cell_type": "code",
   "execution_count": null,
   "id": "61660925",
   "metadata": {},
   "outputs": [],
   "source": []
  }
 ],
 "metadata": {
  "kernelspec": {
   "display_name": "Python 3 (ipykernel)",
   "language": "python",
   "name": "python3"
  },
  "language_info": {
   "codemirror_mode": {
    "name": "ipython",
    "version": 3
   },
   "file_extension": ".py",
   "mimetype": "text/x-python",
   "name": "python",
   "nbconvert_exporter": "python",
   "pygments_lexer": "ipython3",
   "version": "3.9.6"
  }
 },
 "nbformat": 4,
 "nbformat_minor": 5
}
